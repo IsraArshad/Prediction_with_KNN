{
 "cells": [
  {
   "cell_type": "markdown",
   "id": "bf6f69c4-2c53-4978-b662-9ca7e98c1a1d",
   "metadata": {},
   "source": [
    "## EDA"
   ]
  },
  {
   "cell_type": "code",
   "execution_count": 2,
   "id": "e52b1f34-e5fa-415b-9ebd-c21bae75c687",
   "metadata": {},
   "outputs": [],
   "source": [
    "import pandas as pd\n",
    "import numpy as np"
   ]
  },
  {
   "cell_type": "code",
   "execution_count": 4,
   "id": "779dfaf5-81d7-4981-90d6-c4f86e38f00e",
   "metadata": {},
   "outputs": [],
   "source": [
    "house_df=pd.read_csv(\"bangalore house price prediction OHE-data.csv\")"
   ]
  },
  {
   "cell_type": "code",
   "execution_count": 6,
   "id": "30c41b05-51f4-43a6-b67c-448f963c8945",
   "metadata": {},
   "outputs": [
    {
     "name": "stdout",
     "output_type": "stream",
     "text": [
      "<class 'pandas.core.frame.DataFrame'>\n",
      "RangeIndex: 7120 entries, 0 to 7119\n",
      "Columns: 108 entries, bath to location_Tumkur Road\n",
      "dtypes: float64(5), int64(103)\n",
      "memory usage: 5.9 MB\n"
     ]
    }
   ],
   "source": [
    "house_df.info()"
   ]
  },
  {
   "cell_type": "code",
   "execution_count": 8,
   "id": "bcf2393b-44f4-470f-ad17-1473913d3325",
   "metadata": {},
   "outputs": [
    {
     "data": {
      "text/plain": [
       "bath                           0\n",
       "balcony                        0\n",
       "price                          0\n",
       "total_sqft_int                 0\n",
       "bhk                            0\n",
       "                              ..\n",
       "location_Hosur Road            0\n",
       "location_Horamavu Banaswadi    0\n",
       "location_Domlur                0\n",
       "location_Mahadevpura           0\n",
       "location_Tumkur Road           0\n",
       "Length: 108, dtype: int64"
      ]
     },
     "execution_count": 8,
     "metadata": {},
     "output_type": "execute_result"
    }
   ],
   "source": [
    "house_df.isnull().sum()"
   ]
  },
  {
   "cell_type": "code",
   "execution_count": 12,
   "id": "4b41ae11-bd38-4197-b221-1e16466ad140",
   "metadata": {},
   "outputs": [],
   "source": [
    "import os\n",
    "import zipfile\n",
    "import seaborn as sns\n",
    "import matplotlib.pyplot as plt"
   ]
  },
  {
   "cell_type": "code",
   "execution_count": 22,
   "id": "fd07dd6f-8250-4d4d-a17a-ff5e28402257",
   "metadata": {},
   "outputs": [],
   "source": [
    "os.makedirs(\"house_graphs\")"
   ]
  },
  {
   "cell_type": "code",
   "execution_count": 24,
   "id": "45bd1afc-0667-4883-a39d-62045a892ccd",
   "metadata": {},
   "outputs": [],
   "source": [
    "def save_graph(fig, name):\n",
    "    fig.savefig(f\"graphs/{name}.png\")"
   ]
  },
  {
   "cell_type": "code",
   "execution_count": 26,
   "id": "d95f6d07-1085-4200-8b28-93065bb5d5ae",
   "metadata": {},
   "outputs": [
    {
     "data": {
      "image/png": "[encoded data removed]",
      "text/plain": [
       "<Figure size 600x400 with 1 Axes>"
      ]
     },
     "metadata": {},
     "output_type": "display_data"
    }
   ],
   "source": [
    "plt.figure(figsize=(6,4))\n",
    "sns.histplot(house_df['price'],kde=True)\n",
    "plt.title(\"House Price Distribution\")\n",
    "save_graph(plt,\"house_price_distribution\")"
   ]
  },
  {
   "cell_type": "markdown",
   "id": "3e9f74af-6f44-445c-a398-8d7ada52fccf",
   "metadata": {},
   "source": [
    "#### Model Creation"
   ]
  },
  {
   "cell_type": "code",
   "execution_count": 35,
   "id": "cbb99534-1195-4ea3-b1ee-8d668f31d1a3",
   "metadata": {},
   "outputs": [],
   "source": [
    "from sklearn.model_selection import train_test_split\n",
    "from sklearn.linear_model import LinearRegression\n",
    "from sklearn.preprocessing import StandardScaler, PolynomialFeatures, LabelEncoder\n",
    "from sklearn.metrics import r2_score, mean_squared_error, accuracy_score\n",
    "from sklearn.neighbors import KNeighborsClassifier, KNeighborsRegressor"
   ]
  },
  {
   "cell_type": "code",
   "execution_count": 36,
   "id": "5dc7648d-89dc-45fa-9f7c-0fe0dfd86468",
   "metadata": {},
   "outputs": [],
   "source": [
    "X=house_df.drop(columns=['price'])\n",
    "y=house_df['price']\n",
    "X_train,X_test,y_train,y_test=train_test_split(X,y,test_size=0.2,random_state=42)"
   ]
  },
  {
   "cell_type": "code",
   "execution_count": 39,
   "id": "bd150ed4-8b6a-4b00-8fe5-544774eea887",
   "metadata": {},
   "outputs": [],
   "source": [
    "scaler=StandardScaler()\n",
    "X_train=scaler.fit_transform(X_train)\n",
    "X_test=scaler.transform(X_test)"
   ]
  },
  {
   "cell_type": "code",
   "execution_count": 41,
   "id": "ddec372c-48b5-4835-90a6-0c36e2835c66",
   "metadata": {},
   "outputs": [],
   "source": [
    "lin_reg=LinearRegression()\n",
    "lin_reg.fit(X_train,y_train)\n",
    "y_pred=lin_reg.predict(X_test)"
   ]
  },
  {
   "cell_type": "code",
   "execution_count": 43,
   "id": "3e0393ff-8f21-4f00-b6c8-079bf8295bcc",
   "metadata": {},
   "outputs": [
    {
     "name": "stdout",
     "output_type": "stream",
     "text": [
      "Linear Regression R^2:0.9197,RMSE:30.20\n"
     ]
    }
   ],
   "source": [
    "r2=r2_score(y_test,y_pred)\n",
    "rmse=np.sqrt(mean_squared_error(y_test,y_pred))\n",
    "print(f\"Linear Regression R^2:{r2:.4f},RMSE:{rmse:.2f}\")"
   ]
  },
  {
   "cell_type": "code",
   "execution_count": 45,
   "id": "c81ed602-b553-4c40-b5c4-3242da669aa8",
   "metadata": {},
   "outputs": [],
   "source": [
    "poly=PolynomialFeatures(degree=2)\n",
    "X_train_poly=poly.fit_transform(X_train)\n",
    "X_test_poly=poly.transform(X_test)"
   ]
  },
  {
   "cell_type": "code",
   "execution_count": 47,
   "id": "a6dc0bd3-9dc9-46d2-826d-eb189d79fd89",
   "metadata": {},
   "outputs": [],
   "source": [
    "poly_reg=LinearRegression()\n",
    "poly_reg.fit(X_train_poly,y_train)\n",
    "y_pred_poly=poly_reg.predict(X_test_poly)"
   ]
  },
  {
   "cell_type": "code",
   "execution_count": 49,
   "id": "0159620e-717e-4a59-8b8d-e15ba134fc3e",
   "metadata": {},
   "outputs": [
    {
     "name": "stdout",
     "output_type": "stream",
     "text": [
      "Polynomial Regression R^2:0.9933,RMSE:8.70\n"
     ]
    }
   ],
   "source": [
    "r2_poly=r2_score(y_test,y_pred_poly)\n",
    "rmse_poly=np.sqrt(mean_squared_error(y_test,y_pred_poly))\n",
    "print(f\"Polynomial Regression R^2:{r2_poly:.4f},RMSE:{rmse_poly:.2f}\")"
   ]
  },
  {
   "cell_type": "code",
   "execution_count": 55,
   "id": "3bbf7e91-da5b-47d9-afb7-c72a3bea8972",
   "metadata": {},
   "outputs": [],
   "source": [
    "results = pd.DataFrame({\"Model\":[\"Linear Regression\",\"Polynomial Regression\"],\n",
    "                         \"R^2 Score\":[r2, r2_poly],\n",
    "                         \"RMSE\":[rmse, rmse_poly]})\n",
    "results.to_csv(\"house_model_results.csv\",index=False)"
   ]
  },
  {
   "cell_type": "code",
   "execution_count": 59,
   "id": "5502e2d0-7f45-4b83-bccc-3bd727806f0c",
   "metadata": {},
   "outputs": [],
   "source": [
    "zipf=zipfile.ZipFile(\"plots_house.zip\",\"w\",zipfile.ZIP_DEFLATED)\n",
    "with zipfile.ZipFile(\"house_graphs.zip\",\"w\") as zipf:\n",
    "    for file in os.listdir(\"house_graphs\"):\n",
    "        zipf.write(os.path.join(\"house_graphs\",file))\n",
    "\n",
    "zipf.close()"
   ]
  },
  {
   "cell_type": "code",
   "execution_count": 63,
   "id": "9689034b-c1f4-4ddf-8ab6-0632f29d970f",
   "metadata": {},
   "outputs": [],
   "source": [
    "house_df.to_csv(\"houseprice_prj6_cleaned.csv\", index=False)"
   ]
  },
  {
   "cell_type": "code",
   "execution_count": null,
   "id": "cae91f7b-67a5-4705-a27e-8d6af5e411af",
   "metadata": {},
   "outputs": [],
   "source": []
  }
 ],
 "metadata": {
  "kernelspec": {
   "display_name": "Python [conda env:base] *",
   "language": "python",
   "name": "conda-base-py"
  },
  "language_info": {
   "codemirror_mode": {
    "name": "ipython",
    "version": 3
   },
   "file_extension": ".py",
   "mimetype": "text/x-python",
   "name": "python",
   "nbconvert_exporter": "python",
   "pygments_lexer": "ipython3",
   "version": "3.12.7"
  }
 },
 "nbformat": 4,
 "nbformat_minor": 5
}

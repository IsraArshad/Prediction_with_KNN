{
 "cells": [
  {
   "cell_type": "markdown",
   "id": "119d4239-9f5e-482b-81b9-72c80c6ec851",
   "metadata": {},
   "source": [
    "## EDA"
   ]
  },
  {
   "cell_type": "code",
   "execution_count": 16,
   "id": "9100155d-ca62-4d9a-897d-d6c43428c7cf",
   "metadata": {},
   "outputs": [],
   "source": [
    "import pandas as pd\n",
    "import numpy as np"
   ]
  },
  {
   "cell_type": "code",
   "execution_count": 5,
   "id": "3f1489ff-51b8-448a-a0a3-38bf48e98dca",
   "metadata": {},
   "outputs": [],
   "source": [
    "iphone_df=pd.read_csv(\"iphone_purchase_records.csv\")"
   ]
  },
  {
   "cell_type": "markdown",
   "id": "2df71717-8385-45f8-8115-53f0c58f7d7c",
   "metadata": {},
   "source": [
    "#### IPhone Purchase Records"
   ]
  },
  {
   "cell_type": "code",
   "execution_count": 39,
   "id": "ff5d00f0-dd01-40aa-8a13-0b560b439995",
   "metadata": {},
   "outputs": [
    {
     "name": "stdout",
     "output_type": "stream",
     "text": [
      "<class 'pandas.core.frame.DataFrame'>\n",
      "RangeIndex: 400 entries, 0 to 399\n",
      "Data columns (total 4 columns):\n",
      " #   Column           Non-Null Count  Dtype \n",
      "---  ------           --------------  ----- \n",
      " 0   Gender           400 non-null    object\n",
      " 1   Age              400 non-null    int64 \n",
      " 2   Salary           400 non-null    int64 \n",
      " 3   Purchase Iphone  400 non-null    int64 \n",
      "dtypes: int64(3), object(1)\n",
      "memory usage: 12.6+ KB\n"
     ]
    }
   ],
   "source": [
    "iphone_df.info()"
   ]
  },
  {
   "cell_type": "code",
   "execution_count": 37,
   "id": "d39f781f-dd07-455e-bcf1-da05ab28e038",
   "metadata": {},
   "outputs": [
    {
     "data": {
      "text/plain": [
       "Gender             0\n",
       "Age                0\n",
       "Salary             0\n",
       "Purchase Iphone    0\n",
       "dtype: int64"
      ]
     },
     "execution_count": 37,
     "metadata": {},
     "output_type": "execute_result"
    }
   ],
   "source": [
    "iphone_df.isnull().sum()"
   ]
  },
  {
   "cell_type": "code",
   "execution_count": 57,
   "id": "a991fedc-aadf-45ba-a8c3-961df1f45853",
   "metadata": {},
   "outputs": [],
   "source": [
    "le=LabelEncoder()\n",
    "iphone_df['Gender']=le.fit_transform(iphone_df['Gender'])"
   ]
  },
  {
   "cell_type": "code",
   "execution_count": 59,
   "id": "565d8d86-da47-4c87-93b9-65d41d50257b",
   "metadata": {},
   "outputs": [],
   "source": [
    "import seaborn as sns\n",
    "import matplotlib.pyplot as plt\n",
    "import os\n",
    "import zipfile"
   ]
  },
  {
   "cell_type": "code",
   "execution_count": 81,
   "id": "f2cc8744-b7a0-482d-8a24-af1ae72addb3",
   "metadata": {},
   "outputs": [],
   "source": [
    "os.makedirs(\"iphone_graphs\")"
   ]
  },
  {
   "cell_type": "code",
   "execution_count": 83,
   "id": "fe8f3f8c-cfb6-4b28-94d5-42a24a3d0acc",
   "metadata": {},
   "outputs": [],
   "source": [
    "def save_graph(fig, name):\n",
    "    fig.savefig(f\"graphs/{name}.png\")"
   ]
  },
  {
   "cell_type": "code",
   "execution_count": 85,
   "id": "0373d025-5547-4cff-9649-146e07c1cbea",
   "metadata": {},
   "outputs": [
    {
     "data": {
      "image/png": "[encoded data removed]",
      "text/plain": [
       "<Figure size 600x400 with 1 Axes>"
      ]
     },
     "metadata": {},
     "output_type": "display_data"
    }
   ],
   "source": [
    "plt.figure(figsize=(6, 4))\n",
    "sns.histplot(iphone_df['Age'], kde=True)\n",
    "plt.title(\"Age Distribution\")\n",
    "save_graph(plt, \"iphone_age_distribution\")"
   ]
  },
  {
   "cell_type": "code",
   "execution_count": 86,
   "id": "550c3503-08e6-4fe0-a9e9-a781611f70fd",
   "metadata": {},
   "outputs": [],
   "source": [
    "from sklearn.model_selection import train_test_split\n",
    "from sklearn.linear_model import LinearRegression\n",
    "from sklearn.preprocessing import StandardScaler, PolynomialFeatures, LabelEncoder\n",
    "from sklearn.metrics import r2_score, mean_squared_error, accuracy_score\n",
    "from sklearn.neighbors import KNeighborsClassifier, KNeighborsRegressor"
   ]
  },
  {
   "cell_type": "code",
   "execution_count": 89,
   "id": "26f7f0bc-2fe2-4936-bf28-61bff86c9788",
   "metadata": {},
   "outputs": [],
   "source": [
    "X=iphone_df[['Gender', 'Age', 'Salary']]\n",
    "y=iphone_df['Purchase Iphone']\n",
    "X_train,X_test,y_train,y_test=train_test_split(X, y, test_size=0.2, random_state=42)"
   ]
  },
  {
   "cell_type": "code",
   "execution_count": 91,
   "id": "bf5ff47a-eae0-4385-9a28-46239c19b56b",
   "metadata": {},
   "outputs": [],
   "source": [
    "scaler=StandardScaler()\n",
    "X_train=scaler.fit_transform(X_train)\n",
    "X_test=scaler.transform(X_test)"
   ]
  },
  {
   "cell_type": "code",
   "execution_count": 93,
   "id": "fff97418-eaaf-4556-ab02-9973acf57a6f",
   "metadata": {},
   "outputs": [],
   "source": [
    "knn_classifier=KNeighborsClassifier(n_neighbors=5)\n",
    "knn_classifier.fit(X_train, y_train)\n",
    "y_pred=knn_classifier.predict(X_test)"
   ]
  },
  {
   "cell_type": "code",
   "execution_count": 95,
   "id": "20e55174-7eac-44eb-b635-f012bc3fb8c8",
   "metadata": {},
   "outputs": [
    {
     "name": "stdout",
     "output_type": "stream",
     "text": [
      "KNN Classifier Accuracy:92.5%\n"
     ]
    }
   ],
   "source": [
    "accuracy=accuracy_score(y_test, y_pred)\n",
    "print(f\"KNN Classifier Accuracy:{round(accuracy*100,2)}%\")"
   ]
  },
  {
   "cell_type": "code",
   "execution_count": 100,
   "id": "1c984f56-e884-4781-81d0-f32c4569b157",
   "metadata": {},
   "outputs": [],
   "source": [
    "results = pd.DataFrame({\"Model\":[\"KNN Classifier\"],\n",
    "                         \"Accuracy\":[accuracy]})\n",
    "results.to_csv(\"iphone_model_results.csv\",index=False)"
   ]
  },
  {
   "cell_type": "code",
   "execution_count": 108,
   "id": "194fb251-a7b3-4150-8a9f-27ff1ec4c1dc",
   "metadata": {},
   "outputs": [],
   "source": [
    "zipf=zipfile.ZipFile(\"plots_iphone.zip\",\"w\",zipfile.ZIP_DEFLATED)\n",
    "with zipfile.ZipFile(\"iphone_graphs.zip\",\"w\") as zipf:\n",
    "    for file in os.listdir(\"iphone_graphs\"):\n",
    "        zipf.write(os.path.join(\"iphone_graphs\",file))\n",
    "\n",
    "zipf.close()"
   ]
  },
  {
   "cell_type": "code",
   "execution_count": 112,
   "id": "0803138d-f115-47fa-aa8f-61a750876950",
   "metadata": {},
   "outputs": [],
   "source": [
    "iphone_df.to_csv(\"iphone_prj5_cleaned.csv\", index=False)"
   ]
  },
  {
   "cell_type": "code",
   "execution_count": null,
   "id": "6f5632e8-1b2f-483b-8e62-97d9e3bdf357",
   "metadata": {},
   "outputs": [],
   "source": []
  }
 ],
 "metadata": {
  "kernelspec": {
   "display_name": "Python [conda env:base] *",
   "language": "python",
   "name": "conda-base-py"
  },
  "language_info": {
   "codemirror_mode": {
    "name": "ipython",
    "version": 3
   },
   "file_extension": ".py",
   "mimetype": "text/x-python",
   "name": "python",
   "nbconvert_exporter": "python",
   "pygments_lexer": "ipython3",
   "version": "3.12.7"
  }
 },
 "nbformat": 4,
 "nbformat_minor": 5
}
